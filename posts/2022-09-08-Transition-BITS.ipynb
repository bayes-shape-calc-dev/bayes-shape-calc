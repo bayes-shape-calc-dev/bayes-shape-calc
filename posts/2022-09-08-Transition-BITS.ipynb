{
 "cells": [
  {
   "cell_type": "raw",
   "id": "77c8e86c-b6e1-4b58-8447-81608378b405",
   "metadata": {},
   "source": [
    "---\n",
    "title: \"Transition Detection Using BITS\"\n",
    "description: \"The following notebook deals with identifying features, in this case, jump transitions, from a noisy signal containing multiple such jumps.  We also investigate the computational advantages of using BITS over a full template approach.\"\n",
    "author: \"Korak Ray, Anjali Verma, Ruben Gonzalez and Colin Kinz-Thompson\"\n",
    "date-modified: today\n",
    "date: \"09/08/2022\"\n",
    "format:\n",
    "  html:\n",
    "    toc: false\n",
    "    code-fold: false\n",
    "categories:\n",
    "    - template-search\n",
    "    - steps\n",
    "    - jumps\n",
    "---"
   ]
  },
  {
   "cell_type": "markdown",
   "id": "c05c210c",
   "metadata": {},
   "source": [
    "We have previously discussed using shapes for step/jump/transition detection: <a href=\"https://bayes-shape-calc.github.io/examples/steps/jumps/2021/11/21/Step-Detection.html\">Step detection</a>\n",
    "\n",
    "\n",
    "This notebook, however, will serve as an addendum to that discussion, with more insight into Bayesian Inference-based Template Search (BITS) vs. general shape processing.  We will be trying to find 2 transitions in datasets of variable length and will use both BITS and general shape comparison.  "
   ]
  },
  {
   "cell_type": "code",
   "execution_count": 1,
   "id": "2a52feb9",
   "metadata": {},
   "outputs": [],
   "source": [
    "import numpy as np\n",
    "import matplotlib.pyplot as plt\n",
    "import scipy as sc\n",
    "import scipy.special\n",
    "import statistics as st\n",
    "from math import lgamma\n",
    "import numba as nb\n",
    "from numba import jit"
   ]
  },
  {
   "cell_type": "markdown",
   "id": "d223df41",
   "metadata": {},
   "source": [
    "Let's start by generating some fake data.  We will use the same setup as the previous notebook, and provide a sample dataset below."
   ]
  },
  {
   "cell_type": "code",
   "execution_count": 2,
   "id": "58ce4dad",
   "metadata": {},
   "outputs": [],
   "source": [
    "#generate data\n",
    "@nb.njit\n",
    "def data_generator(num_points, num_jumps, jump_size, noise_size, drift_size, blur, seed):\n",
    "    \n",
    "    np.random.seed(444 + seed)\n",
    "\n",
    "    # parameters of fake data\n",
    "    nt = num_points\n",
    "    nj = num_jumps\n",
    "    \n",
    "    # generating noise & drift\n",
    "    tjumps = []\n",
    "    while len(tjumps) < nj:\n",
    "        time = int(np.random.exponential(scale=nt/2))\n",
    "        if time < nt-50 and time > 50:\n",
    "            if len(tjumps) > 0:\n",
    "                if np.min(np.abs(np.array(tjumps) - time)) > jump_size + blur:\n",
    "                    tjumps.append(time)\n",
    "            else:\n",
    "                tjumps.append(time)\n",
    "    tjumps.sort()\n",
    "    \n",
    "    zsteps = np.zeros(nj)\n",
    "    for i in range(nj):\n",
    "        zsteps[i] = jump_size\n",
    "    noise = np.ones(nt)\n",
    "    drift_arr = np.ones(nt)\n",
    "    for i in range(nt):\n",
    "        noise[i] = np.random.normal()*noise_size\n",
    "        drift_arr[i] = np.random.normal()*drift_size\n",
    "    drift = drift_arr.cumsum()\n",
    "    \n",
    "    # generating \"true\" path\n",
    "    z = np.zeros(nt)\n",
    "    \n",
    "    for i in range(nj):\n",
    "        z[tjumps[i]:] += zsteps[i]\n",
    "        \n",
    "    data = z + drift + noise\n",
    "    \n",
    "    # calculating snr\n",
    "    snr = []\n",
    "    for i in range(len(zsteps)):\n",
    "        if i == 0:\n",
    "            snr.append(zsteps[i]/np.std((noise+drift)[:tjumps[i+1]]))\n",
    "        elif i == len(zsteps)-1:\n",
    "            snr.append(zsteps[-1]/np.std((noise+drift)[tjumps[-2]:]))\n",
    "        else:\n",
    "            snr.append((zsteps[i]/np.std((noise+drift)[tjumps[i]:tjumps[i+1]])))\n",
    "    '''\n",
    "    #print('SNR = ' + str(st.mean(snr)))\n",
    "    #plotting\n",
    "    fig,ax = plt.subplots(1,1,figsize=(12,4))\n",
    "    ax.plot(data,'k',lw=.5);\n",
    "    #ax[1].plot(data,'o',color='k',markersize=1)\n",
    "    #ax[1].plot(z+drift,lw=2,color='r')\n",
    "    #for aa in ax:\n",
    "    #    for i in range(nj):\n",
    "    #        aa.axvline(x=tjumps[i],color='r',lw=1,zorder=-1,alpha=.5)\n",
    "    for i in range(nj):\n",
    "        ax.axvline(x=tjumps[i],color='r',lw=1,zorder=-1,alpha=.5)\n",
    "    ax.set_title('Actual Transitions')\n",
    "    #ax[1].set_title('Simulated Path')\n",
    "    plt.show()\n",
    "    '''  \n",
    "    return data, tjumps, np.mean(np.array(snr))"
   ]
  },
  {
   "cell_type": "code",
   "execution_count": 3,
   "id": "45503666",
   "metadata": {},
   "outputs": [
    {
     "name": "stdout",
     "output_type": "stream",
     "text": [
      "SNR = 3.559\n"
     ]
    },
    {
     "data": {
      "image/png": "[encoded data removed]",
      "text/plain": [
       "<Figure size 360x288 with 1 Axes>"
      ]
     },
     "metadata": {
      "needs_background": "light"
     },
     "output_type": "display_data"
    }
   ],
   "source": [
    "data, tjumps, snr = data_generator(num_points=1000, num_jumps=2, jump_size=80, noise_size=20,\n",
    "                                          drift_size=1, blur = 0, seed = 45)\n",
    "print('SNR = %.3f'%snr)\n",
    "\n",
    "#plotting\n",
    "fig,ax = plt.subplots(1,1,figsize=(5,4))\n",
    "ax.plot(data,'k',lw=.5);\n",
    "for i in range(len(tjumps)):\n",
    "    ax.axvline(x=tjumps[i],color='r',lw=1,zorder=-1,alpha=.5)\n",
    "#ax.set_title('Actual Transitions')\n",
    "plt.xlim(0,1000)\n",
    "plt.savefig('/home/anjali/Documents/BITS_figures/Representative_trace_2.pdf')\n",
    "plt.show()"
   ]
  },
  {
   "cell_type": "markdown",
   "id": "c8fadc14",
   "metadata": {},
   "source": [
    "We now create an evidence function corresponding to equation 2.2.1 in the SI of the Bayesian shape calculation paper. This function takes in data, a template, and a variable prior for m (scaling nuisance parameter) and returns the evidence that the input data has the same shape as the template."
   ]
  },
  {
   "cell_type": "code",
   "execution_count": 4,
   "id": "fcd9e1ed",
   "metadata": {},
   "outputs": [],
   "source": [
    "@nb.jit(nb.float64(nb.float64[:],nb.float64,nb.float64[:]),nopython=True)\n",
    "def evidence_template(data, prior_m, template): # corresponds to Eq. 2.2.1 in SI for shape calculations\n",
    "    \n",
    "    # constant evidence statistics\n",
    "    N = float(data.size)\n",
    "    m = (N-2.)/2.\n",
    "\n",
    "    ey = np.mean(data)\n",
    "    eyy = np.mean(data*data)\n",
    "    vy = eyy - ey*ey + 1e-300 ## helps with over/underflow\n",
    "    \n",
    "    # priors for m (scale), b (offset), tau (noise)   \n",
    "    log_l = 0\n",
    "    log_del_m = np.log(prior_m) \n",
    "    log_del_b = np.log(1e5)\n",
    "    log_del_tau = np.log(1e5)\n",
    "    log_l -= (log_del_m + log_del_b + log_del_tau)\n",
    "        \n",
    "    # template-dependent evidence statistics\n",
    "    ex = np.mean(template)\n",
    "    exx = np.mean(template*template)\n",
    "    exy = np.mean(template*data)\n",
    "    vx = exx - ex*ex + 1e-300 ## helps with over/underflow\n",
    "    vxy = exy - ex*ey + 1e-300 ## helps with over/underflow\n",
    "    r= vxy/np.sqrt(vx*vy)\n",
    "    r2 = r*r\n",
    "    \n",
    "    # evidence integral\n",
    "    log_l += -m*np.log(np.pi)\n",
    "    log_l += -N/2*np.log(N)\n",
    "    log_l += lgamma(m) \n",
    "    log_l += -0.5*np.log(vx)\n",
    "    log_l += -m*np.log(vy)\n",
    "    log_l += -m*np.log(1.-r2) \n",
    "    log_l += -np.log(2)\n",
    "    #log_l += np.log(1.+(r/np.abs(r))*sc.special.betainc(0.5,m,r2))   \n",
    "\n",
    "    return log_l"
   ]
  },
  {
   "cell_type": "markdown",
   "id": "753f2290",
   "metadata": {},
   "source": [
    "We also create an evidence function corresponding to equation 2.2.4 in the SI of the Bayesian shape calculation paper. This function takes in data and returns the evidence that the input data can be described by a \"flat\" template.  Conceptually, this \"flat\" template can be thought of as a null case and alternative hypothesis; it represents the absence of shape, or latent structure, in the data. \n",
    "\n",
    "In the Bayesian shape calculation paper, we describe the importance of this null template as it allows us to move beyond \"Which template in out set is optimal?\" and instead ask the question: \"Does the data look more like any of our templates than like uncorrelated noise?\" By having this alternative hypothesis, we are not forced to overfit and choose the \"best\" answer from our set of templates. Instead, if no particular template has an evidence which dominates over the null template, we conclude that the data does not look like any of our templates."
   ]
  },
  {
   "cell_type": "code",
   "execution_count": 5,
   "id": "0794b17b",
   "metadata": {},
   "outputs": [],
   "source": [
    "@nb.jit(nb.float64(nb.float64[:]),nopython=True)\n",
    "def evidence_flat(data): # corresponds to Eq. 2.2.4 in SI for shape calculations\n",
    "    \n",
    "    N = float(data.size)\n",
    "    m = (N-2.)/2.\n",
    "\n",
    "    ey = np.mean(data)\n",
    "    eyy = np.mean(data*data)\n",
    "    vy = eyy - ey*ey + 1e-300 ## helps with over/underflow\n",
    "\n",
    "    # evidence integral\n",
    "    log_l = -(m + .5)*np.log(np.pi)\n",
    "    log_l += -(N/2)*np.log(N)\n",
    "    log_l += lgamma(m +.5) \n",
    "    log_l += -(m + 0.5)*np.log(vy)\n",
    "    log_del_b = np.log(1e5)\n",
    "    log_del_tau = np.log(1e5)\n",
    "    log_l -= (log_del_b + log_del_tau)\n",
    "    \n",
    "    return log_l"
   ]
  },
  {
   "cell_type": "markdown",
   "id": "3b17252a",
   "metadata": {},
   "source": [
    "In the previous notebook, the goal was to find two arbitrarily located signal jumps in a dataset of 600 data points.  To do so, an exhaustive set of 360,000 templates was created, wherein each template was the full length of the dataset, with all possible combinations of the 2 jump locations represented. This sort of general shape analysis is admittedly not very scalable.  Even for this small example of 2 jumps, the set of templates required grows as $\\mathcal{O}(N^2)$ where $N$ is the number of points in the dataset.  \n",
    "\n",
    "More generally, the set of templates required scales both with the number of data points, $N$ and the number of features to find, $R$, as $\\mathcal{O}(N^{R})$.  The number of computations required, however, grows as $\\mathcal{O}(N^{R+1})$.  We pick up an extra +1 in the exponent from generating and comparing all $N^R$ templates to $N$ data points. \n",
    "\n",
    "Below we have the code for generating our set of full data templates and calculating their associated evidences.  The bayes factor of the template evidences is compared to the bayes factor for the null evidence in a process known as Bayesian Model Selection (BMS). Once the templates which maximize this comparison are identified, we use them to return as the most probable locations for transitions."
   ]
  },
  {
   "cell_type": "code",
   "execution_count": 6,
   "id": "392b1a7a",
   "metadata": {},
   "outputs": [],
   "source": [
    "@nb.jit(nb.float64[:,:](nb.float64[:],nb.float64),nopython=True)\n",
    "def full_shape_ev(data, prior_m):\n",
    "    nt = len(data)\n",
    "    m = prior_m\n",
    "    lnevs = np.zeros((nt,nt)) + np.nan\n",
    "    temp = np.zeros_like(data)\n",
    "    \n",
    "    for i in range(nt): ## sweep jump 1\n",
    "        for j in range(nt): ## sweep jump 2\n",
    "            ## make the template\n",
    "            temp *= 0\n",
    "            temp[i:] = 1\n",
    "            temp[j:] = 2\n",
    "            \n",
    "            ## calculate evidence          \n",
    "            lnevs[i,j] = evidence_template(data, m, temp)\n",
    "            \n",
    "    return lnevs"
   ]
  },
  {
   "cell_type": "code",
   "execution_count": 7,
   "id": "913c5c4d",
   "metadata": {},
   "outputs": [],
   "source": [
    "@nb.jit(nb.int64[:](nb.float64[:],nb.float64),nopython=True)\n",
    "def full_shape(data, prior_m):\n",
    "    \n",
    "    ## calculate evidence          \n",
    "    ln_evs = full_shape_ev(data, 10**8)\n",
    "    if (np.isfinite(ln_evs)).any() == False:\n",
    "        print('NaN Alert')\n",
    "        return np.array([0])\n",
    "    else:\n",
    "        _l = ln_evs.flatten()\n",
    "        _l -= np.max(_l)\n",
    "    \n",
    "    ln_prior = -np.log(_l.size) ## equal 1/N priors\n",
    "    joint = np.exp(_l+ln_prior)\n",
    "    \n",
    "    ## use BMS to find transitions\n",
    "    bms_probs = joint/joint.sum()\n",
    "    bms_array = np.empty_like(ln_evs)\n",
    "    for i in range(0, _l.size, ln_evs.shape[0]):\n",
    "        ind = int((i+ln_evs.shape[0]) / ln_evs.shape[0] - 1)\n",
    "        bms_array[ind,:] = bms_probs[i:i+ln_evs.shape[0]]\n",
    "        \n",
    "    transitions = []\n",
    "    for i in np.nonzero(bms_array == bms_array.max()):\n",
    "        transitions.append(i[0])\n",
    "    \n",
    "    return np.array(transitions)"
   ]
  },
  {
   "cell_type": "markdown",
   "id": "bc16bf6c",
   "metadata": {},
   "source": [
    "Here, instead of creating thousands of templates that span the entire dataset, we exploit the localized nature the features we are looking for.  We can generate a template that is just large enough to capture the behavior we are searching for, and then scan it across our dataset.  We perform the usual BMS calculation on a slice of our data corresponding to the template location, before translating over one datapoint and repeating the process.  In effect, this is equivalent to executing a linear search of our localized template through the full dataset (with the caveat that points on the edge will be missed).\n",
    "\n",
    "This approach greatly allievates the scaling headache faced by the more general shape calculation approach described above.  Here, we only need one template regardless of $N$, the size of our dataset.  Additionally, in this example, there are two transitions which have the same shape.  Since we can move our template, we don't have to treat them like distinct features and we can still use just one template, regardless of the number of transitions we have.  The number of calculations required for BITS grows as $\\mathcal{O}(CN)$ where $C$ is the number of $\\textbf{distinct}$ features we are searching for."
   ]
  },
  {
   "cell_type": "code",
   "execution_count": 8,
   "id": "5866fe4c",
   "metadata": {},
   "outputs": [],
   "source": [
    "@nb.jit(nb.int64[:](nb.float64[:],nb.float64,nb.int64,nb.int64),nopython=True)\n",
    "def BITS(data, prior_m, tail_size, blur_size=0):\n",
    "    \n",
    "    # jump template\n",
    "    \"\"\"\n",
    "    tmp_jump = np.ones(tmp_size,dtype=nb.float64)\n",
    "    for i in range(tmp_size):\n",
    "        if i >= tmp_size / 2.:\n",
    "            tmp_jump[i] = 1.\n",
    "        else:\n",
    "            tmp_jump[i] = 0.\n",
    "    \"\"\"\n",
    "            \n",
    "    # blurred template\n",
    "    tt = tail_size // 2\n",
    "    temp = np.zeros(blur_size + 2 * tt,dtype=nb.float64) \n",
    "    tmp_size = blur_size + 2 * tt\n",
    "    ind = np.arange(tt, tt+blur_size, 1)\n",
    "    temp[ind] = np.linspace(0., 1., len(ind))\n",
    "    temp[-tt:] = 1\n",
    "    \n",
    "    # calculate evidences\n",
    "    ev_jump = np.empty(data.shape[0] - tmp_size)\n",
    "    ev_flat = np.empty(data.shape[0] - tmp_size)\n",
    "    \n",
    "    for i in range(0, data.shape[0] - tmp_size):\n",
    "        sub = data[i:i+tmp_size]\n",
    "        #print(type(sub[0]))\n",
    "        ev_jump[i] = evidence_template(sub, prior_m, temp)\n",
    "        ev_flat[i] = evidence_flat(sub)\n",
    "    \n",
    "    # use BMS to calculate posteriors\n",
    "    #ev_line = np.ones_like(ev_step) * -np.inf\n",
    "    bayes_jump = ev_flat - ev_jump\n",
    "    bayes_flat = ev_jump - ev_flat\n",
    "    \n",
    "    prob_jump = 1. / (1. + np.exp(bayes_jump))\n",
    "    prob_flat = 1. / (1. + np.exp(bayes_flat)) \n",
    "    \n",
    "    # taking out repeats\n",
    "    jump = np.where(prob_jump>=0.85)[0]\n",
    "    \n",
    "    if len(jump) == 0:\n",
    "        return jump\n",
    "    elif len(jump) == 1:\n",
    "         transitions_jump = jump\n",
    "    else:\n",
    "        if np.min(np.diff(jump))<=tmp_size:\n",
    "            jump_split = np.split(jump, np.argwhere(np.diff(jump)>=tmp_size).flatten()+1)\n",
    "            ind = 0\n",
    "            transitions_jump = np.ones(len(jump_split),dtype=nb.int64)\n",
    "            for i in jump_split:\n",
    "                transitions_jump[ind] = i[np.argmax(prob_jump[i])]\n",
    "                ind += 1 \n",
    "      \n",
    "    return transitions_jump + round(tmp_size / 2)"
   ]
  },
  {
   "cell_type": "markdown",
   "id": "de166a90",
   "metadata": {},
   "source": [
    "Let's take a look at how both of these methods scale."
   ]
  },
  {
   "cell_type": "code",
   "execution_count": 9,
   "id": "d1c50bc3",
   "metadata": {},
   "outputs": [
    {
     "name": "stdout",
     "output_type": "stream",
     "text": [
      "300 Datapoints complete\n",
      "600 Datapoints complete\n",
      "900 Datapoints complete\n",
      "1200 Datapoints complete\n",
      "1500 Datapoints complete\n",
      "1800 Datapoints complete\n",
      "2100 Datapoints complete\n",
      "2400 Datapoints complete\n",
      "2700 Datapoints complete\n",
      "3000 Datapoints complete\n"
     ]
    }
   ],
   "source": [
    "import datetime\n",
    "\n",
    "BITS_times = []\n",
    "full_times = []\n",
    "\n",
    "dp = [300, 600, 900, 1200, 1500, 1800, 2100, 2400, 2700, 3000]\n",
    "for i in dp:\n",
    "    print('%d Datapoints complete'%(i))\n",
    "\n",
    "    ## generate data\n",
    "    data, tjumps, snr = data_generator(num_points=i, num_jumps=2, jump_size=80, noise_size=20,\n",
    "                                          drift_size=1, blur = 0, seed = 76)\n",
    "\n",
    "    timers_bits = np.zeros(10)\n",
    "    timers_full = np.zeros(10)\n",
    "    for i in range(10):\n",
    "        #print('iteration %d'%(i))\n",
    "        ## time BITS\n",
    "        start = datetime.datetime.now()\n",
    "        tran_BITS = BITS(data, 10**8, 55, blur_size=0)\n",
    "        finish = datetime.datetime.now()\n",
    "        if (tjumps == tran_BITS).all():\n",
    "            timers_bits[i] = (finish-start).total_seconds()\n",
    "        else:\n",
    "            print('failed to find all transitions - BITS')\n",
    "        \n",
    "        ## time full shape analysis\n",
    "        start = datetime.datetime.now()\n",
    "        tran_full = full_shape(data, 10**8)\n",
    "        finish = datetime.datetime.now()\n",
    "        if (tjumps == tran_full).all():\n",
    "            timers_full[i] = (finish-start).total_seconds()\n",
    "        else:\n",
    "            print('failed to find all transitions - full')\n",
    "        \n",
    "    full_times.append(np.median(timers_full))\n",
    "    BITS_times.append(np.median(timers_bits))"
   ]
  },
  {
   "cell_type": "code",
   "execution_count": 10,
   "id": "cdc8c3c1",
   "metadata": {},
   "outputs": [
    {
     "data": {
      "image/png": "[encoded data removed]",
      "text/plain": [
       "<Figure size 360x288 with 1 Axes>"
      ]
     },
     "metadata": {
      "needs_background": "light"
     },
     "output_type": "display_data"
    }
   ],
   "source": [
    "plt.figure(figsize=(5,4))\n",
    "plt.plot(dp, BITS_times, 'o', label='BITS')\n",
    "plt.plot(dp, full_times, 'o', label='Full Dataset Template')\n",
    "plt.legend(loc=0)\n",
    "#plt.title('Linear Axes')\n",
    "plt.xlabel('N')\n",
    "plt.xlim(200,3100)\n",
    "plt.ylabel('Run Time (s)')\n",
    "plt.savefig('/home/anjali/Documents/BITS_figures/2Features_linear.pdf')\n",
    "plt.show()"
   ]
  },
  {
   "cell_type": "markdown",
   "id": "e0983c01",
   "metadata": {},
   "source": [
    "We note some exponential behavior for the full dataset template curve, while the BITS times grow linearly.  Let's investigate further with a loglog plot."
   ]
  },
  {
   "cell_type": "code",
   "execution_count": 11,
   "id": "5c067b66",
   "metadata": {},
   "outputs": [
    {
     "name": "stdout",
     "output_type": "stream",
     "text": [
      "BITS fit: y = 1.009*m + -14.301\n",
      "Full Dataset Template fit: y = 2.908*m + -18.446\n"
     ]
    },
    {
     "data": {
      "image/png": "[encoded data removed]",
      "text/plain": [
       "<Figure size 360x288 with 1 Axes>"
      ]
     },
     "metadata": {
      "needs_background": "light"
     },
     "output_type": "display_data"
    }
   ],
   "source": [
    "from scipy.optimize import curve_fit\n",
    "\n",
    "## log plotting\n",
    "plt.figure(figsize=(5,4))\n",
    "plt.plot(np.log(dp), np.log(BITS_times), 'o', label='BITS')\n",
    "plt.plot(np.log(dp), np.log(full_times), 'o', label='Full Dataset Template')\n",
    "plt.legend(loc=0)\n",
    "\n",
    "## curve-fitting\n",
    "def linear(x, m, b):\n",
    "    return m*x + b\n",
    "\n",
    "popt, pcov = scipy.optimize.curve_fit(linear, np.log(dp), np.log(BITS_times))\n",
    "plt.plot(np.log(dp), linear(np.log(dp), popt[0], popt[1]), 'k--')\n",
    "print('BITS fit: y = %.3f*m + %.3f'%(np.round(popt[0],3), np.round(popt[1],3)))\n",
    "\n",
    "popt, pcov = scipy.optimize.curve_fit(linear, np.log(dp), np.log(full_times))\n",
    "plt.plot(np.log(dp), linear(np.log(dp), popt[0], popt[1]), 'k--')\n",
    "print('Full Dataset Template fit: y = %.3f*m + %.3f'%(np.round(popt[0],3), np.round(popt[1],3)))\n",
    "\n",
    "## finishing up plot\n",
    "#plt.title('Log-Log Plot');\n",
    "plt.xlabel('Log(N)')\n",
    "plt.ylabel('Log(Run Time) (s)')\n",
    "plt.savefig('/home/anjali/Documents/BITS_figures/2Features_loglog.pdf')"
   ]
  },
  {
   "cell_type": "markdown",
   "id": "6b5f6059",
   "metadata": {},
   "source": [
    "After fitting, we see that our Big-$\\mathcal{O}$ predictions are empirically confirmed.  The BITS slope is $\\approx 1$ which matches $\\mathcal{O}(CN) = \\mathcal{O}(N)$, while the full dataset slope is $\\approx 3$ which matches $\\mathcal{O}(N^{R+1}) = \\mathcal{O}(N^{3})$. "
   ]
  },
  {
   "cell_type": "code",
   "execution_count": null,
   "id": "88dc89f1",
   "metadata": {},
   "outputs": [],
   "source": []
  }
 ],
 "metadata": {
  "kernelspec": {
   "display_name": "Python 3 (ipykernel)",
   "language": "python",
   "name": "python3"
  },
  "language_info": {
   "codemirror_mode": {
    "name": "ipython",
    "version": 3
   },
   "file_extension": ".py",
   "mimetype": "text/x-python",
   "name": "python",
   "nbconvert_exporter": "python",
   "pygments_lexer": "ipython3",
   "version": "3.10.9"
  }
 },
 "nbformat": 4,
 "nbformat_minor": 5
}
